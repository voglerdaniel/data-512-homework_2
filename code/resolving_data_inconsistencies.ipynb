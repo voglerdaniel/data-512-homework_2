{
 "cells": [
  {
   "cell_type": "markdown",
   "metadata": {},
   "source": [
    "First, I open and explore the datasets to try to resolve any inconsistencies before beginning to analyze the data."
   ]
  },
  {
   "cell_type": "code",
   "execution_count": 8,
   "metadata": {},
   "outputs": [],
   "source": [
    "import pandas as pd\n",
    "import os"
   ]
  },
  {
   "cell_type": "code",
   "execution_count": 9,
   "metadata": {},
   "outputs": [],
   "source": [
    "politicians_raw = pd.read_csv(\"../raw_data/politicians_by_country_AUG.2024.csv\")\n",
    "population_raw = pd.read_csv(\"../raw_data/population_by_country_AUG.2024.csv\")"
   ]
  },
  {
   "cell_type": "markdown",
   "metadata": {},
   "source": [
    "Often, when working with geographic data, it's challenging to perform joins because regions have different names in different datasets. Let's check if that's the case here."
   ]
  },
  {
   "cell_type": "code",
   "execution_count": 10,
   "metadata": {},
   "outputs": [
    {
     "name": "stdout",
     "output_type": "stream",
     "text": [
      "{'Korea, South', 'Korean', 'Guinea-Bissau'}\n",
      "{'Palau', 'Brunei', 'China (Hong Kong SAR)', 'San Marino', 'Martinique', 'CENTRAL AMERICA', 'WESTERN EUROPE', 'OCEANIA', 'NORTHERN AMERICA', 'Nauru', 'SOUTH ASIA', 'ASIA', 'Canada', 'Philippines', 'Guam', 'MIDDLE AFRICA', 'LATIN AMERICA AND THE CARIBBEAN', 'Netherlands', 'Ireland', 'GuineaBissau', 'New Zealand', 'WESTERN AFRICA', 'Romania', 'Mexico', 'Korea (South)', 'EASTERN EUROPE', 'Puerto Rico', 'SOUTH AMERICA', 'Liechtenstein', 'New Caledonia', 'Guadeloupe', 'NORTHERN EUROPE', 'WORLD', 'WESTERN ASIA', 'Suriname', 'Korea (North)', 'Dominica', 'Mayotte', 'CENTRAL ASIA', 'Australia', 'French Guiana', 'Curacao', 'SOUTHEAST ASIA', 'eSwatini', 'United Kingdom', 'Sao Tome and Principe', 'Fiji', 'SOUTHERN AFRICA', 'United States', 'China (Macao SAR)', 'CARIBBEAN', 'Western Sahara', 'EAST ASIA', 'Andorra', 'French Polynesia', 'Kiribati', 'Jamaica', 'Iceland', 'Mauritius', 'NORTHERN AFRICA', 'Georgia', 'EUROPE', 'AFRICA', 'SOUTHERN EUROPE', 'Reunion', 'EASTERN AFRICA', 'Denmark'}\n"
     ]
    }
   ],
   "source": [
    "print(set(politicians_raw[\"country\"]) - set(population_raw[\"Geography\"]))\n",
    "print(set(population_raw[\"Geography\"]) - set(politicians_raw[\"country\"]))"
   ]
  },
  {
   "cell_type": "code",
   "execution_count": 11,
   "metadata": {},
   "outputs": [
    {
     "name": "stdout",
     "output_type": "stream",
     "text": [
      "set()\n"
     ]
    }
   ],
   "source": [
    "politicians_cleaned = politicians_raw.copy()\n",
    "politicians_cleaned[\"country\"] = politicians_cleaned[\"country\"].replace(\n",
    "    {\n",
    "        \"Korea, South\": \"Korea (South)\",\n",
    "        \"Korean\": \"Korea (South)\"\n",
    "    }\n",
    ")\n",
    "\n",
    "population_cleaned = population_raw.copy()\n",
    "population_cleaned[\"Geography\"] = population_cleaned[\"Geography\"].replace(\n",
    "    {\n",
    "        \"GuineaBissau\": \"Guinea-Bissau\"\n",
    "    }\n",
    ")\n",
    "\n",
    "print(set(politicians_cleaned[\"country\"]) - set(population_cleaned[\"Geography\"]))\n"
   ]
  },
  {
   "cell_type": "code",
   "execution_count": 12,
   "metadata": {},
   "outputs": [
    {
     "name": "stdout",
     "output_type": "stream",
     "text": [
      "Despositing cleaned data in the folder: '../cleaned_data/'\n"
     ]
    }
   ],
   "source": [
    "out_directory = \"../cleaned_data/\"\n",
    "\n",
    "if not os.path.exists(out_directory):\n",
    "    os.makedirs(out_directory)\n",
    "    print(f\"Created '{out_directory}' folder to store cleaned data\")\n",
    "else:\n",
    "    print(f\"Despositing cleaned data in the folder: '{out_directory}'\")\n",
    "\n",
    "population_cleaned.to_csv(out_directory + \"population_by_country_AUG_2024_clean.csv\")\n",
    "politicians_cleaned.to_csv(out_directory + \"politicians_by_country_AUG_2024_clean.csv\")"
   ]
  }
 ],
 "metadata": {
  "kernelspec": {
   "display_name": "Python 3",
   "language": "python",
   "name": "python3"
  },
  "language_info": {
   "codemirror_mode": {
    "name": "ipython",
    "version": 3
   },
   "file_extension": ".py",
   "mimetype": "text/x-python",
   "name": "python",
   "nbconvert_exporter": "python",
   "pygments_lexer": "ipython3",
   "version": "3.12.7"
  }
 },
 "nbformat": 4,
 "nbformat_minor": 2
}
