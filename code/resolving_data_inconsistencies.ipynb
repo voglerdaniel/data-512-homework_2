{
 "cells": [
  {
   "cell_type": "markdown",
   "metadata": {},
   "source": [
    "# Getting Quality Predictions for World Politicians' Wikipedia Articles\n",
    "\n",
    "### Homework #2 – Data 512\n",
    "### Daniel Vogler"
   ]
  },
  {
   "cell_type": "markdown",
   "metadata": {},
   "source": [
    "# Initial Data Exploration – Resolving Inconsistencies"
   ]
  },
  {
   "cell_type": "markdown",
   "metadata": {},
   "source": [
    "First, I open and explore the provided datasets to try to resolve any inconsistencies before beginning to analyze the data."
   ]
  },
  {
   "cell_type": "code",
   "execution_count": 3,
   "metadata": {},
   "outputs": [],
   "source": [
    "import pandas as pd\n",
    "import os"
   ]
  },
  {
   "cell_type": "code",
   "execution_count": 4,
   "metadata": {},
   "outputs": [],
   "source": [
    "politicians_raw = pd.read_csv(\"../raw_data/politicians_by_country_AUG.2024.csv\")\n",
    "population_raw = pd.read_csv(\"../raw_data/population_by_country_AUG.2024.csv\")"
   ]
  },
  {
   "cell_type": "markdown",
   "metadata": {},
   "source": [
    "As a first step, I visualize the top of each dataframe to understand its structure and see the datatypes in each column."
   ]
  },
  {
   "cell_type": "code",
   "execution_count": 5,
   "metadata": {},
   "outputs": [
    {
     "data": {
      "text/html": [
       "<div>\n",
       "<style scoped>\n",
       "    .dataframe tbody tr th:only-of-type {\n",
       "        vertical-align: middle;\n",
       "    }\n",
       "\n",
       "    .dataframe tbody tr th {\n",
       "        vertical-align: top;\n",
       "    }\n",
       "\n",
       "    .dataframe thead th {\n",
       "        text-align: right;\n",
       "    }\n",
       "</style>\n",
       "<table border=\"1\" class=\"dataframe\">\n",
       "  <thead>\n",
       "    <tr style=\"text-align: right;\">\n",
       "      <th></th>\n",
       "      <th>name</th>\n",
       "      <th>url</th>\n",
       "      <th>country</th>\n",
       "    </tr>\n",
       "  </thead>\n",
       "  <tbody>\n",
       "    <tr>\n",
       "      <th>0</th>\n",
       "      <td>Majah Ha Adrif</td>\n",
       "      <td>https://en.wikipedia.org/wiki/Majah_Ha_Adrif</td>\n",
       "      <td>Afghanistan</td>\n",
       "    </tr>\n",
       "    <tr>\n",
       "      <th>1</th>\n",
       "      <td>Haroon al-Afghani</td>\n",
       "      <td>https://en.wikipedia.org/wiki/Haroon_al-Afghani</td>\n",
       "      <td>Afghanistan</td>\n",
       "    </tr>\n",
       "    <tr>\n",
       "      <th>2</th>\n",
       "      <td>Tayyab Agha</td>\n",
       "      <td>https://en.wikipedia.org/wiki/Tayyab_Agha</td>\n",
       "      <td>Afghanistan</td>\n",
       "    </tr>\n",
       "    <tr>\n",
       "      <th>3</th>\n",
       "      <td>Khadija Zahra Ahmadi</td>\n",
       "      <td>https://en.wikipedia.org/wiki/Khadija_Zahra_Ah...</td>\n",
       "      <td>Afghanistan</td>\n",
       "    </tr>\n",
       "    <tr>\n",
       "      <th>4</th>\n",
       "      <td>Aziza Ahmadyar</td>\n",
       "      <td>https://en.wikipedia.org/wiki/Aziza_Ahmadyar</td>\n",
       "      <td>Afghanistan</td>\n",
       "    </tr>\n",
       "    <tr>\n",
       "      <th>5</th>\n",
       "      <td>Muqadasa Ahmadzai</td>\n",
       "      <td>https://en.wikipedia.org/wiki/Muqadasa_Ahmadzai</td>\n",
       "      <td>Afghanistan</td>\n",
       "    </tr>\n",
       "    <tr>\n",
       "      <th>6</th>\n",
       "      <td>Mohammad Sarwar Ahmedzai</td>\n",
       "      <td>https://en.wikipedia.org/wiki/Mohammad_Sarwar_...</td>\n",
       "      <td>Afghanistan</td>\n",
       "    </tr>\n",
       "    <tr>\n",
       "      <th>7</th>\n",
       "      <td>Amir Muhammad Akhundzada</td>\n",
       "      <td>https://en.wikipedia.org/wiki/Amir_Muhammad_Ak...</td>\n",
       "      <td>Afghanistan</td>\n",
       "    </tr>\n",
       "    <tr>\n",
       "      <th>8</th>\n",
       "      <td>Nasrullah Baryalai Arsalai</td>\n",
       "      <td>https://en.wikipedia.org/wiki/Nasrullah_Baryal...</td>\n",
       "      <td>Afghanistan</td>\n",
       "    </tr>\n",
       "    <tr>\n",
       "      <th>9</th>\n",
       "      <td>Abdul Rahim Ayoubi</td>\n",
       "      <td>https://en.wikipedia.org/wiki/Abdul_Rahim_Ayoubi</td>\n",
       "      <td>Afghanistan</td>\n",
       "    </tr>\n",
       "  </tbody>\n",
       "</table>\n",
       "</div>"
      ],
      "text/plain": [
       "                         name  \\\n",
       "0              Majah Ha Adrif   \n",
       "1           Haroon al-Afghani   \n",
       "2                 Tayyab Agha   \n",
       "3        Khadija Zahra Ahmadi   \n",
       "4              Aziza Ahmadyar   \n",
       "5           Muqadasa Ahmadzai   \n",
       "6    Mohammad Sarwar Ahmedzai   \n",
       "7    Amir Muhammad Akhundzada   \n",
       "8  Nasrullah Baryalai Arsalai   \n",
       "9          Abdul Rahim Ayoubi   \n",
       "\n",
       "                                                 url      country  \n",
       "0       https://en.wikipedia.org/wiki/Majah_Ha_Adrif  Afghanistan  \n",
       "1    https://en.wikipedia.org/wiki/Haroon_al-Afghani  Afghanistan  \n",
       "2          https://en.wikipedia.org/wiki/Tayyab_Agha  Afghanistan  \n",
       "3  https://en.wikipedia.org/wiki/Khadija_Zahra_Ah...  Afghanistan  \n",
       "4       https://en.wikipedia.org/wiki/Aziza_Ahmadyar  Afghanistan  \n",
       "5    https://en.wikipedia.org/wiki/Muqadasa_Ahmadzai  Afghanistan  \n",
       "6  https://en.wikipedia.org/wiki/Mohammad_Sarwar_...  Afghanistan  \n",
       "7  https://en.wikipedia.org/wiki/Amir_Muhammad_Ak...  Afghanistan  \n",
       "8  https://en.wikipedia.org/wiki/Nasrullah_Baryal...  Afghanistan  \n",
       "9   https://en.wikipedia.org/wiki/Abdul_Rahim_Ayoubi  Afghanistan  "
      ]
     },
     "execution_count": 5,
     "metadata": {},
     "output_type": "execute_result"
    }
   ],
   "source": [
    "politicians_raw.head(10)"
   ]
  },
  {
   "cell_type": "code",
   "execution_count": 6,
   "metadata": {},
   "outputs": [
    {
     "data": {
      "text/html": [
       "<div>\n",
       "<style scoped>\n",
       "    .dataframe tbody tr th:only-of-type {\n",
       "        vertical-align: middle;\n",
       "    }\n",
       "\n",
       "    .dataframe tbody tr th {\n",
       "        vertical-align: top;\n",
       "    }\n",
       "\n",
       "    .dataframe thead th {\n",
       "        text-align: right;\n",
       "    }\n",
       "</style>\n",
       "<table border=\"1\" class=\"dataframe\">\n",
       "  <thead>\n",
       "    <tr style=\"text-align: right;\">\n",
       "      <th></th>\n",
       "      <th>Geography</th>\n",
       "      <th>Population</th>\n",
       "    </tr>\n",
       "  </thead>\n",
       "  <tbody>\n",
       "    <tr>\n",
       "      <th>0</th>\n",
       "      <td>WORLD</td>\n",
       "      <td>8009.0</td>\n",
       "    </tr>\n",
       "    <tr>\n",
       "      <th>1</th>\n",
       "      <td>AFRICA</td>\n",
       "      <td>1453.0</td>\n",
       "    </tr>\n",
       "    <tr>\n",
       "      <th>2</th>\n",
       "      <td>NORTHERN AFRICA</td>\n",
       "      <td>256.0</td>\n",
       "    </tr>\n",
       "    <tr>\n",
       "      <th>3</th>\n",
       "      <td>Algeria</td>\n",
       "      <td>46.8</td>\n",
       "    </tr>\n",
       "    <tr>\n",
       "      <th>4</th>\n",
       "      <td>Egypt</td>\n",
       "      <td>105.2</td>\n",
       "    </tr>\n",
       "    <tr>\n",
       "      <th>5</th>\n",
       "      <td>Libya</td>\n",
       "      <td>6.9</td>\n",
       "    </tr>\n",
       "    <tr>\n",
       "      <th>6</th>\n",
       "      <td>Morocco</td>\n",
       "      <td>37.0</td>\n",
       "    </tr>\n",
       "    <tr>\n",
       "      <th>7</th>\n",
       "      <td>Sudan</td>\n",
       "      <td>48.1</td>\n",
       "    </tr>\n",
       "    <tr>\n",
       "      <th>8</th>\n",
       "      <td>Tunisia</td>\n",
       "      <td>11.9</td>\n",
       "    </tr>\n",
       "    <tr>\n",
       "      <th>9</th>\n",
       "      <td>Western Sahara</td>\n",
       "      <td>0.6</td>\n",
       "    </tr>\n",
       "  </tbody>\n",
       "</table>\n",
       "</div>"
      ],
      "text/plain": [
       "         Geography  Population\n",
       "0            WORLD      8009.0\n",
       "1           AFRICA      1453.0\n",
       "2  NORTHERN AFRICA       256.0\n",
       "3          Algeria        46.8\n",
       "4            Egypt       105.2\n",
       "5            Libya         6.9\n",
       "6          Morocco        37.0\n",
       "7            Sudan        48.1\n",
       "8          Tunisia        11.9\n",
       "9   Western Sahara         0.6"
      ]
     },
     "execution_count": 6,
     "metadata": {},
     "output_type": "execute_result"
    }
   ],
   "source": [
    "population_raw.head(10)"
   ]
  },
  {
   "cell_type": "markdown",
   "metadata": {},
   "source": [
    "Now, I'll do a basic check for duplicates:"
   ]
  },
  {
   "cell_type": "code",
   "execution_count": 22,
   "metadata": {},
   "outputs": [
    {
     "data": {
      "text/html": [
       "<div>\n",
       "<style scoped>\n",
       "    .dataframe tbody tr th:only-of-type {\n",
       "        vertical-align: middle;\n",
       "    }\n",
       "\n",
       "    .dataframe tbody tr th {\n",
       "        vertical-align: top;\n",
       "    }\n",
       "\n",
       "    .dataframe thead th {\n",
       "        text-align: right;\n",
       "    }\n",
       "</style>\n",
       "<table border=\"1\" class=\"dataframe\">\n",
       "  <thead>\n",
       "    <tr style=\"text-align: right;\">\n",
       "      <th></th>\n",
       "      <th>name</th>\n",
       "      <th>url</th>\n",
       "      <th>country</th>\n",
       "    </tr>\n",
       "  </thead>\n",
       "  <tbody>\n",
       "  </tbody>\n",
       "</table>\n",
       "</div>"
      ],
      "text/plain": [
       "Empty DataFrame\n",
       "Columns: [name, url, country]\n",
       "Index: []"
      ]
     },
     "execution_count": 22,
     "metadata": {},
     "output_type": "execute_result"
    }
   ],
   "source": [
    "# this defines a duplicate as a record where the politician's name and country match another\n",
    "# record's \n",
    "politician_duplicates = politicians_raw[politicians_raw.duplicated(subset=[\"name\", \"country\"], keep=False)]\n",
    "politician_duplicates"
   ]
  },
  {
   "cell_type": "markdown",
   "metadata": {},
   "source": [
    "This indicates that there are no duplicate *records* in this dataset, in the sense that the same politician from the same country is listed twice. But what if one politician maps to multiple countries (because they represented a country that broke up into multiple new countries, like [this person](https://en.wikipedia.org/wiki/Torokul_Dzhanuzakov))? In that case, the politician's URL would be duplicated:"
   ]
  },
  {
   "cell_type": "code",
   "execution_count": 17,
   "metadata": {},
   "outputs": [
    {
     "data": {
      "text/html": [
       "<div>\n",
       "<style scoped>\n",
       "    .dataframe tbody tr th:only-of-type {\n",
       "        vertical-align: middle;\n",
       "    }\n",
       "\n",
       "    .dataframe tbody tr th {\n",
       "        vertical-align: top;\n",
       "    }\n",
       "\n",
       "    .dataframe thead th {\n",
       "        text-align: right;\n",
       "    }\n",
       "</style>\n",
       "<table border=\"1\" class=\"dataframe\">\n",
       "  <thead>\n",
       "    <tr style=\"text-align: right;\">\n",
       "      <th></th>\n",
       "      <th>name</th>\n",
       "      <th>url</th>\n",
       "      <th>country</th>\n",
       "    </tr>\n",
       "  </thead>\n",
       "  <tbody>\n",
       "    <tr>\n",
       "      <th>6351</th>\n",
       "      <td>Abir Al-Sahlani</td>\n",
       "      <td>https://en.wikipedia.org/wiki/Abir_Al-Sahlani</td>\n",
       "      <td>Sweden</td>\n",
       "    </tr>\n",
       "    <tr>\n",
       "      <th>3101</th>\n",
       "      <td>Abir Al-Sahlani</td>\n",
       "      <td>https://en.wikipedia.org/wiki/Abir_Al-Sahlani</td>\n",
       "      <td>Iraq</td>\n",
       "    </tr>\n",
       "    <tr>\n",
       "      <th>5374</th>\n",
       "      <td>Aleksandr Nikitin (politician, born 1987)</td>\n",
       "      <td>https://en.wikipedia.org/wiki/Aleksandr_Nikiti...</td>\n",
       "      <td>Russia</td>\n",
       "    </tr>\n",
       "    <tr>\n",
       "      <th>4237</th>\n",
       "      <td>Aleksandr Nikitin (politician, born 1987)</td>\n",
       "      <td>https://en.wikipedia.org/wiki/Aleksandr_Nikiti...</td>\n",
       "      <td>Moldova</td>\n",
       "    </tr>\n",
       "    <tr>\n",
       "      <th>5292</th>\n",
       "      <td>Ali al-Qaradaghi</td>\n",
       "      <td>https://en.wikipedia.org/wiki/Ali_al-Qaradaghi</td>\n",
       "      <td>Qatar</td>\n",
       "    </tr>\n",
       "    <tr>\n",
       "      <th>...</th>\n",
       "      <td>...</td>\n",
       "      <td>...</td>\n",
       "      <td>...</td>\n",
       "    </tr>\n",
       "    <tr>\n",
       "      <th>1119</th>\n",
       "      <td>Venko Markovski</td>\n",
       "      <td>https://en.wikipedia.org/wiki/Venko_Markovski</td>\n",
       "      <td>Bulgaria</td>\n",
       "    </tr>\n",
       "    <tr>\n",
       "      <th>3680</th>\n",
       "      <td>Visar Ymeri</td>\n",
       "      <td>https://en.wikipedia.org/wiki/Visar_Ymeri</td>\n",
       "      <td>Kosovo</td>\n",
       "    </tr>\n",
       "    <tr>\n",
       "      <th>151</th>\n",
       "      <td>Visar Ymeri</td>\n",
       "      <td>https://en.wikipedia.org/wiki/Visar_Ymeri</td>\n",
       "      <td>Albania</td>\n",
       "    </tr>\n",
       "    <tr>\n",
       "      <th>1303</th>\n",
       "      <td>Yat Hwaidi</td>\n",
       "      <td>https://en.wikipedia.org/wiki/Yat_Hwaidi</td>\n",
       "      <td>Cambodia</td>\n",
       "    </tr>\n",
       "    <tr>\n",
       "      <th>6591</th>\n",
       "      <td>Yat Hwaidi</td>\n",
       "      <td>https://en.wikipedia.org/wiki/Yat_Hwaidi</td>\n",
       "      <td>Thailand</td>\n",
       "    </tr>\n",
       "  </tbody>\n",
       "</table>\n",
       "<p>85 rows × 3 columns</p>\n",
       "</div>"
      ],
      "text/plain": [
       "                                           name  \\\n",
       "6351                            Abir Al-Sahlani   \n",
       "3101                            Abir Al-Sahlani   \n",
       "5374  Aleksandr Nikitin (politician, born 1987)   \n",
       "4237  Aleksandr Nikitin (politician, born 1987)   \n",
       "5292                           Ali al-Qaradaghi   \n",
       "...                                         ...   \n",
       "1119                            Venko Markovski   \n",
       "3680                                Visar Ymeri   \n",
       "151                                 Visar Ymeri   \n",
       "1303                                 Yat Hwaidi   \n",
       "6591                                 Yat Hwaidi   \n",
       "\n",
       "                                                    url   country  \n",
       "6351      https://en.wikipedia.org/wiki/Abir_Al-Sahlani    Sweden  \n",
       "3101      https://en.wikipedia.org/wiki/Abir_Al-Sahlani      Iraq  \n",
       "5374  https://en.wikipedia.org/wiki/Aleksandr_Nikiti...    Russia  \n",
       "4237  https://en.wikipedia.org/wiki/Aleksandr_Nikiti...   Moldova  \n",
       "5292     https://en.wikipedia.org/wiki/Ali_al-Qaradaghi     Qatar  \n",
       "...                                                 ...       ...  \n",
       "1119      https://en.wikipedia.org/wiki/Venko_Markovski  Bulgaria  \n",
       "3680          https://en.wikipedia.org/wiki/Visar_Ymeri    Kosovo  \n",
       "151           https://en.wikipedia.org/wiki/Visar_Ymeri   Albania  \n",
       "1303           https://en.wikipedia.org/wiki/Yat_Hwaidi  Cambodia  \n",
       "6591           https://en.wikipedia.org/wiki/Yat_Hwaidi  Thailand  \n",
       "\n",
       "[85 rows x 3 columns]"
      ]
     },
     "execution_count": 17,
     "metadata": {},
     "output_type": "execute_result"
    }
   ],
   "source": [
    "duplicated_urls_df = politicians_raw[politicians_raw.duplicated(\"url\", keep=False)]\n",
    "duplicated_urls_df.sort_values(by=\"name\") # sort by name to see dups more easily"
   ]
  },
  {
   "cell_type": "markdown",
   "metadata": {},
   "source": [
    "Clearly there are some cases like this. I will keep track of them for my final analysis:"
   ]
  },
  {
   "cell_type": "code",
   "execution_count": 18,
   "metadata": {},
   "outputs": [],
   "source": [
    "def group_duplicated_urls():\n",
    "\n",
    "    duplicated_urls = duplicated_urls_df.groupby('url', \n",
    "                                            as_index=False).agg({\n",
    "        \"url\" : \"first\",\n",
    "        \"country\" : lambda x: ', '.join(x.unique()) \n",
    "    })\n",
    "\n",
    "    return duplicated_urls\n",
    "\n",
    "duplicated_politicans = group_duplicated_urls()\n",
    "\n",
    "###### AI USE ACKOWLEDGEMENT ########\n",
    "# I figured out how to do this by searching ChatGPT on October 13, 2024.\n",
    "\n",
    "################################################################################\n",
    "# PROMPT: I have a data frame with three columns: name, url, and country. \n",
    "# I want to re-index this data frame, grouping by name and turning country into \n",
    "# a single column where the different values of country are separated by a comma\n",
    "\n",
    "# OUTPUT (example code):\n",
    "# You can achieve this in Pandas by using the groupby() method combined with agg() \n",
    "# to concatenate the country values into a single string separated by commas. \n",
    "# Here's how to do it:\n",
    "\n",
    "# Example Code: \n",
    "\n",
    "# import pandas as pd\n",
    "\n",
    "# # Sample DataFrame\n",
    "# data = {\n",
    "#     'name': ['Alice', 'Bob', 'Alice', 'Charlie', 'Bob'],\n",
    "#     'url': ['url1', 'url2', 'url3', 'url4', 'url5'],\n",
    "#     'country': ['USA', 'Canada', 'UK', 'USA', 'Mexico']\n",
    "# }\n",
    "\n",
    "# df = pd.DataFrame(data)\n",
    "\n",
    "# # Group by 'name' and aggregate 'country'\n",
    "# grouped_df = df.groupby('name', as_index=False).agg({\n",
    "#     'url': 'first',  # Assuming you want to keep the first URL associated with each name\n",
    "#     'country': lambda x: ', '.join(x.unique())  # Concatenate unique countries\n",
    "# })\n",
    "\n",
    "# print(grouped_df)"
   ]
  },
  {
   "cell_type": "markdown",
   "metadata": {},
   "source": [
    "I am recording these politicians as a reference for later use in the analysis section. Since these records are ~1% of the total records, they will have a negligible effect on the API calls needed to predict article quality, so I do not drop them from the dataset at this stage."
   ]
  },
  {
   "cell_type": "code",
   "execution_count": 19,
   "metadata": {},
   "outputs": [],
   "source": [
    "duplicated_politicans.to_csv(\"../cleaned_data/duplicated_politicians.csv\")"
   ]
  },
  {
   "cell_type": "markdown",
   "metadata": {},
   "source": [
    "Now, I shift gears to another data quality challenge.\n",
    "\n",
    "Often, when working with geographic data, it's challenging to perform joins because regions have different names in different datasets. Let's check if that's the case here."
   ]
  },
  {
   "cell_type": "code",
   "execution_count": 10,
   "metadata": {},
   "outputs": [
    {
     "name": "stdout",
     "output_type": "stream",
     "text": [
      "{'Korea, South', 'Korean', 'Guinea-Bissau'}\n",
      "{'Palau', 'Brunei', 'China (Hong Kong SAR)', 'San Marino', 'Martinique', 'CENTRAL AMERICA', 'WESTERN EUROPE', 'OCEANIA', 'NORTHERN AMERICA', 'Nauru', 'SOUTH ASIA', 'ASIA', 'Canada', 'Philippines', 'Guam', 'MIDDLE AFRICA', 'LATIN AMERICA AND THE CARIBBEAN', 'Netherlands', 'Ireland', 'GuineaBissau', 'New Zealand', 'WESTERN AFRICA', 'Romania', 'Mexico', 'Korea (South)', 'EASTERN EUROPE', 'Puerto Rico', 'SOUTH AMERICA', 'Liechtenstein', 'New Caledonia', 'Guadeloupe', 'NORTHERN EUROPE', 'WORLD', 'WESTERN ASIA', 'Suriname', 'Korea (North)', 'Dominica', 'Mayotte', 'CENTRAL ASIA', 'Australia', 'French Guiana', 'Curacao', 'SOUTHEAST ASIA', 'eSwatini', 'United Kingdom', 'Sao Tome and Principe', 'Fiji', 'SOUTHERN AFRICA', 'United States', 'China (Macao SAR)', 'CARIBBEAN', 'Western Sahara', 'EAST ASIA', 'Andorra', 'French Polynesia', 'Kiribati', 'Jamaica', 'Iceland', 'Mauritius', 'NORTHERN AFRICA', 'Georgia', 'EUROPE', 'AFRICA', 'SOUTHERN EUROPE', 'Reunion', 'EASTERN AFRICA', 'Denmark'}\n"
     ]
    }
   ],
   "source": [
    "# countries that are in the politician dataset but not in the country dataset\n",
    "print(set(politicians_raw[\"country\"]) - set(population_raw[\"Geography\"]))\n",
    "# countries that are in the country dataset but not in the politician dataset\n",
    "print(set(population_raw[\"Geography\"]) - set(politicians_raw[\"country\"]))"
   ]
  },
  {
   "cell_type": "markdown",
   "metadata": {},
   "source": [
    "The first set returned above tells us that politicans from South Korea and Guinea-Bissau appear in the list of articles we're supposed to analyze *and* do not match the list of countries in the `population_by_country_AUG.2024.csv` file. These require reconciliation, which I perform below.\n",
    "\n",
    "The bottom set is the set of countries and region names that do not appear in the `population_by_country_AUG.2024.csv` dataset. These do not require reconciliation, since some countries' politicians simply aren't in the list of politicians we are tasked with analyzing.\n",
    "\n",
    "Below, I reconcile naming conventions for South Korea and Guinea-Bissau across the two datasets, then output the cleaned data to a dedicated folder."
   ]
  },
  {
   "cell_type": "code",
   "execution_count": 11,
   "metadata": {},
   "outputs": [
    {
     "name": "stdout",
     "output_type": "stream",
     "text": [
      "set()\n"
     ]
    }
   ],
   "source": [
    "politicians_cleaned = politicians_raw.copy()\n",
    "politicians_cleaned[\"country\"] = politicians_cleaned[\"country\"].replace(\n",
    "    {\n",
    "        \"Korea, South\": \"Korea (South)\",\n",
    "        \"Korean\": \"Korea (South)\"\n",
    "    }\n",
    ")\n",
    "\n",
    "population_cleaned = population_raw.copy()\n",
    "population_cleaned[\"Geography\"] = population_cleaned[\"Geography\"].replace(\n",
    "    {\n",
    "        \"GuineaBissau\": \"Guinea-Bissau\"\n",
    "    }\n",
    ")\n",
    "\n",
    "print(set(politicians_cleaned[\"country\"]) - set(population_cleaned[\"Geography\"]))\n"
   ]
  },
  {
   "cell_type": "markdown",
   "metadata": {},
   "source": [
    "The empty set result confirms that I've addressed the issue with South Korea and Guinea-Bissau in these datasets. Joining on these two terms will now work. With that issue resolved, I now save the output as cleaned data:"
   ]
  },
  {
   "cell_type": "code",
   "execution_count": 12,
   "metadata": {},
   "outputs": [
    {
     "name": "stdout",
     "output_type": "stream",
     "text": [
      "Despositing cleaned data in the folder: '../cleaned_data/'\n"
     ]
    }
   ],
   "source": [
    "out_directory = \"../cleaned_data/\"\n",
    "\n",
    "if not os.path.exists(out_directory):\n",
    "    os.makedirs(out_directory)\n",
    "    print(f\"Created '{out_directory}' folder to store cleaned data\")\n",
    "else:\n",
    "    print(f\"Despositing cleaned data in the folder: '{out_directory}'\")\n",
    "\n",
    "population_cleaned.to_csv(out_directory + \"population_by_country_AUG_2024_clean.csv\")\n",
    "politicians_cleaned.to_csv(out_directory + \"politicians_by_country_AUG_2024_clean.csv\")"
   ]
  }
 ],
 "metadata": {
  "kernelspec": {
   "display_name": "Python 3",
   "language": "python",
   "name": "python3"
  },
  "language_info": {
   "codemirror_mode": {
    "name": "ipython",
    "version": 3
   },
   "file_extension": ".py",
   "mimetype": "text/x-python",
   "name": "python",
   "nbconvert_exporter": "python",
   "pygments_lexer": "ipython3",
   "version": "3.12.7"
  }
 },
 "nbformat": 4,
 "nbformat_minor": 2
}
