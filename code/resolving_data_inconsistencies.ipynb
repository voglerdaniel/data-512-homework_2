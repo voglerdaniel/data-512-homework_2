{
 "cells": [
  {
   "cell_type": "markdown",
   "metadata": {},
   "source": [
    "First, I open and explore the datasets to try to resolve any inconsistencies before beginning to analyze the data."
   ]
  },
  {
   "cell_type": "code",
   "execution_count": 4,
   "metadata": {},
   "outputs": [],
   "source": [
    "import pandas as pd"
   ]
  },
  {
   "cell_type": "code",
   "execution_count": 6,
   "metadata": {},
   "outputs": [],
   "source": [
    "politicians_raw = pd.read_csv(\"../raw_data/politicians_by_country_AUG.2024.csv\")\n",
    "population_raw = pd.read_csv(\"../raw_data/population_by_country_AUG.2024.csv\")"
   ]
  },
  {
   "cell_type": "markdown",
   "metadata": {},
   "source": [
    "Often, when working with geographic data, it's challenging to perform joins because regions have different names in different datasets. Let's check if that's the case here."
   ]
  },
  {
   "cell_type": "code",
   "execution_count": 7,
   "metadata": {},
   "outputs": [
    {
     "name": "stdout",
     "output_type": "stream",
     "text": [
      "{'Korea, South', 'Korean', 'Guinea-Bissau'}\n",
      "{'Sao Tome and Principe', 'Kiribati', 'eSwatini', 'Puerto Rico', 'NORTHERN AMERICA', 'SOUTHERN AFRICA', 'Mexico', 'SOUTHEAST ASIA', 'SOUTH AMERICA', 'Philippines', 'LATIN AMERICA AND THE CARIBBEAN', 'Nauru', 'NORTHERN AFRICA', 'Reunion', 'CENTRAL ASIA', 'WESTERN EUROPE', 'Fiji', 'Canada', 'Georgia', 'Korea (North)', 'Australia', 'Mauritius', 'Guam', 'United States', 'United Kingdom', 'San Marino', 'Iceland', 'EAST ASIA', 'Ireland', 'WORLD', 'NORTHERN EUROPE', 'French Guiana', 'Suriname', 'WESTERN ASIA', 'French Polynesia', 'Curacao', 'AFRICA', 'Andorra', 'EASTERN AFRICA', 'Guadeloupe', 'China (Hong Kong SAR)', 'EUROPE', 'Brunei', 'China (Macao SAR)', 'Martinique', 'GuineaBissau', 'New Caledonia', 'CARIBBEAN', 'Denmark', 'Jamaica', 'ASIA', 'CENTRAL AMERICA', 'MIDDLE AFRICA', 'Korea (South)', 'Liechtenstein', 'Palau', 'Western Sahara', 'Mayotte', 'Netherlands', 'SOUTHERN EUROPE', 'EASTERN EUROPE', 'New Zealand', 'WESTERN AFRICA', 'Dominica', 'OCEANIA', 'SOUTH ASIA', 'Romania'}\n"
     ]
    }
   ],
   "source": [
    "print(set(politicians_raw[\"country\"]) - set(population_raw[\"Geography\"]))\n",
    "print(set(population_raw[\"Geography\"]) - set(politicians_raw[\"country\"]))"
   ]
  },
  {
   "cell_type": "code",
   "execution_count": 12,
   "metadata": {},
   "outputs": [
    {
     "name": "stdout",
     "output_type": "stream",
     "text": [
      "set()\n"
     ]
    }
   ],
   "source": [
    "politicians_cleaned = politicians_raw.copy()\n",
    "politicians_cleaned[\"country\"] = politicians_cleaned[\"country\"].replace(\n",
    "    {\n",
    "        \"Korea, South\": \"Korea (South)\",\n",
    "        \"Korean\": \"Korea (South)\"\n",
    "    }\n",
    ")\n",
    "\n",
    "population_cleaned = population_raw.copy()\n",
    "population_cleaned[\"Geography\"] = population_cleaned[\"Geography\"].replace(\n",
    "    {\n",
    "        \"GuineaBissau\": \"Guinea-Bissau\"\n",
    "    }\n",
    ")\n",
    "\n",
    "print(set(politicians_cleaned[\"country\"]) - set(population_cleaned[\"Geography\"]))\n"
   ]
  }
 ],
 "metadata": {
  "kernelspec": {
   "display_name": "Python 3",
   "language": "python",
   "name": "python3"
  },
  "language_info": {
   "codemirror_mode": {
    "name": "ipython",
    "version": 3
   },
   "file_extension": ".py",
   "mimetype": "text/x-python",
   "name": "python",
   "nbconvert_exporter": "python",
   "pygments_lexer": "ipython3",
   "version": "3.12.7"
  }
 },
 "nbformat": 4,
 "nbformat_minor": 2
}
