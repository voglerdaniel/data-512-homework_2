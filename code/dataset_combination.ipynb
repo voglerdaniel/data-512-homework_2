{
 "cells": [
  {
   "cell_type": "markdown",
   "metadata": {},
   "source": [
    "# Getting Quality Predictions for World Politicians' Wikipedia Articles\n",
    "\n",
    "### Homework #2 – Data 512\n",
    "### Daniel Vogler"
   ]
  },
  {
   "cell_type": "markdown",
   "metadata": {},
   "source": [
    "# Combining Politician and Population Datasets"
   ]
  },
  {
   "cell_type": "markdown",
   "metadata": {},
   "source": [
    "## Environment Setup"
   ]
  },
  {
   "cell_type": "code",
   "execution_count": 1,
   "metadata": {},
   "outputs": [],
   "source": [
    "import pandas as pd\n",
    "import json"
   ]
  },
  {
   "cell_type": "markdown",
   "metadata": {},
   "source": [
    "## Data Import"
   ]
  },
  {
   "cell_type": "code",
   "execution_count": 7,
   "metadata": {},
   "outputs": [
    {
     "name": "stdout",
     "output_type": "stream",
     "text": [
      "7155\n"
     ]
    }
   ],
   "source": [
    "# get politicians with predicted article quality...\n",
    "\n",
    "politician_article_quality_filepath = \"../output_data/quality_predictions.json\"\n",
    "\n",
    "with open(politician_article_quality_filepath, \"r\") as f:\n",
    "    politician_article_quality_js = json.load(f)\n",
    "\n",
    "politician_article_quality_df = pd.DataFrame(politician_article_quality_js)\n",
    "\n",
    "print(len(politician_article_quality_df))"
   ]
  }
 ],
 "metadata": {
  "kernelspec": {
   "display_name": "Python 3",
   "language": "python",
   "name": "python3"
  },
  "language_info": {
   "codemirror_mode": {
    "name": "ipython",
    "version": 3
   },
   "file_extension": ".py",
   "mimetype": "text/x-python",
   "name": "python",
   "nbconvert_exporter": "python",
   "pygments_lexer": "ipython3",
   "version": "3.12.7"
  }
 },
 "nbformat": 4,
 "nbformat_minor": 2
}
